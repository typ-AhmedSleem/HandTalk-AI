{
        "cells": [
                {
                        "cell_type": "markdown",
                        "metadata": {
                                "id": "Z-9BpIlqAZci"
                        },
                        "source": [
                                "Project: /mediapipe/_project.yaml\n",
                                "Book: /mediapipe/_book.yaml\n",
                                "\n",
                                "<link rel=\"stylesheet\" href=\"/mediapipe/site.css\">\n",
                                "\n",
                                "# Hand gesture recognition model maker\n",
                                "\n",
                                "<table align=\"left\" class=\"buttons\">\n",
                                "  <td>\n",
                                "    <a href=\"https://colab.research.google.com/github/googlesamples/mediapipe/blob/main/examples/customization/gesture_recognizer.ipynb\" target=\"_blank\">\n",
                                "      <img src=\"https://developers.google.com/static/mediapipe/solutions/customization/colab-logo-32px_1920.png\" alt=\"Colab logo\"> Run in Colab\n",
                                "    </a>\n",
                                "  </td>\n",
                                "</table>"
                        ]
                },
                {
                        "cell_type": "code",
                        "execution_count": null,
                        "metadata": {
                                "id": "JO1GUwC1_T2x"
                        },
                        "outputs": [],
                        "source": [
                                "#@title License information\n",
                                "# Copyright 2023 The MediaPipe Authors.\n",
                                "# Licensed under the Apache License, Version 2.0 (the \"License\");\n",
                                "#\n",
                                "# you may not use this file except in compliance with the License.\n",
                                "# You may obtain a copy of the License at\n",
                                "#\n",
                                "# https://www.apache.org/licenses/LICENSE-2.0\n",
                                "#\n",
                                "# Unless required by applicable law or agreed to in writing, software\n",
                                "# distributed under the License is distributed on an \"AS IS\" BASIS,\n",
                                "# WITHOUT WARRANTIES OR CONDITIONS OF ANY KIND, either express or implied.\n",
                                "# See the License for the specific language governing permissions and\n",
                                "# limitations under the License."
                        ]
                },
                {
                        "cell_type": "markdown",
                        "metadata": {
                                "id": "wFBcmjzf0JLE"
                        },
                        "source": [
                                "The MediaPipe Model Maker package is a low-code solution for customizing on-device machine learning (ML) Models.\n",
                                "\n",
                                "This notebook shows the end-to-end process of customizing a gesture recognizer model for recognizing some common hand gestures in the [HaGRID](https://www.kaggle.com/datasets/innominate817/hagrid-sample-30k-384p) dataset."
                        ]
                },
                {
                        "cell_type": "markdown",
                        "metadata": {
                                "id": "YGM0PT490LiR"
                        },
                        "source": [
                                "## Prerequisites"
                        ]
                },
                {
                        "cell_type": "markdown",
                        "metadata": {
                                "id": "cVVxZNfo0M0y"
                        },
                        "source": [
                                "Install the MediaPipe Model Maker package."
                        ]
                },
                {
                        "cell_type": "code",
                        "execution_count": 1,
                        "metadata": {
                                "id": "6DBLRE-fqlO5"
                        },
                        "outputs": [
                                {
                                        "name": "stdout",
                                        "output_type": "stream",
                                        "text": [
                                                "Requirement already satisfied: pip in /Users/typ/miniconda3/envs/env_mediapipe_tf/lib/python3.9/site-packages (23.3.1)\n",
                                                "Collecting pip\n",
                                                "  Using cached pip-24.0-py3-none-any.whl.metadata (3.6 kB)\n",
                                                "Using cached pip-24.0-py3-none-any.whl (2.1 MB)\n",
                                                "Installing collected packages: pip\n",
                                                "  Attempting uninstall: pip\n",
                                                "    Found existing installation: pip 23.3.1\n",
                                                "    Uninstalling pip-23.3.1:\n",
                                                "      Successfully uninstalled pip-23.3.1\n",
                                                "Successfully installed pip-24.0\n",
                                                "Note: you may need to restart the kernel to use updated packages.\n",
                                                "Requirement already satisfied: mediapipe-model-maker in /Users/typ/miniconda3/envs/env_mediapipe_tf/lib/python3.9/site-packages (0.1.0.2)\n",
                                                "Requirement already satisfied: absl-py in /Users/typ/miniconda3/envs/env_mediapipe_tf/lib/python3.9/site-packages (from mediapipe-model-maker) (1.4.0)\n",
                                                "Requirement already satisfied: mediapipe==0.9.0.1 in /Users/typ/miniconda3/envs/env_mediapipe_tf/lib/python3.9/site-packages (from mediapipe-model-maker) (0.9.0.1)\n",
                                                "Requirement already satisfied: numpy in /Users/typ/miniconda3/envs/env_mediapipe_tf/lib/python3.9/site-packages (from mediapipe-model-maker) (1.26.4)\n",
                                                "Requirement already satisfied: opencv-python in /Users/typ/miniconda3/envs/env_mediapipe_tf/lib/python3.9/site-packages (from mediapipe-model-maker) (4.9.0.80)\n",
                                                "Requirement already satisfied: tensorflow>=2.10 in /Users/typ/miniconda3/envs/env_mediapipe_tf/lib/python3.9/site-packages (from mediapipe-model-maker) (2.15.0)\n",
                                                "Requirement already satisfied: tensorflow-datasets in /Users/typ/miniconda3/envs/env_mediapipe_tf/lib/python3.9/site-packages (from mediapipe-model-maker) (4.9.3)\n",
                                                "Requirement already satisfied: tensorflow-hub in /Users/typ/miniconda3/envs/env_mediapipe_tf/lib/python3.9/site-packages (from mediapipe-model-maker) (0.16.1)\n",
                                                "Requirement already satisfied: tf-models-official>=2.10.1 in /Users/typ/miniconda3/envs/env_mediapipe_tf/lib/python3.9/site-packages (from mediapipe-model-maker) (2.15.0)\n",
                                                "Requirement already satisfied: attrs>=19.1.0 in /Users/typ/miniconda3/envs/env_mediapipe_tf/lib/python3.9/site-packages (from mediapipe==0.9.0.1->mediapipe-model-maker) (23.2.0)\n",
                                                "Requirement already satisfied: flatbuffers>=2.0 in /Users/typ/miniconda3/envs/env_mediapipe_tf/lib/python3.9/site-packages (from mediapipe==0.9.0.1->mediapipe-model-maker) (23.5.26)\n",
                                                "Requirement already satisfied: matplotlib in /Users/typ/miniconda3/envs/env_mediapipe_tf/lib/python3.9/site-packages (from mediapipe==0.9.0.1->mediapipe-model-maker) (3.8.3)\n",
                                                "Requirement already satisfied: opencv-contrib-python in /Users/typ/miniconda3/envs/env_mediapipe_tf/lib/python3.9/site-packages (from mediapipe==0.9.0.1->mediapipe-model-maker) (4.9.0.80)\n",
                                                "Requirement already satisfied: protobuf<4,>=3.11 in /Users/typ/miniconda3/envs/env_mediapipe_tf/lib/python3.9/site-packages (from mediapipe==0.9.0.1->mediapipe-model-maker) (3.20.3)\n",
                                                "Requirement already satisfied: astunparse>=1.6.0 in /Users/typ/miniconda3/envs/env_mediapipe_tf/lib/python3.9/site-packages (from tensorflow>=2.10->mediapipe-model-maker) (1.6.3)\n",
                                                "Requirement already satisfied: gast!=0.5.0,!=0.5.1,!=0.5.2,>=0.2.1 in /Users/typ/miniconda3/envs/env_mediapipe_tf/lib/python3.9/site-packages (from tensorflow>=2.10->mediapipe-model-maker) (0.5.4)\n",
                                                "Requirement already satisfied: google-pasta>=0.1.1 in /Users/typ/miniconda3/envs/env_mediapipe_tf/lib/python3.9/site-packages (from tensorflow>=2.10->mediapipe-model-maker) (0.2.0)\n",
                                                "Requirement already satisfied: h5py>=2.9.0 in /Users/typ/miniconda3/envs/env_mediapipe_tf/lib/python3.9/site-packages (from tensorflow>=2.10->mediapipe-model-maker) (3.10.0)\n",
                                                "Requirement already satisfied: libclang>=13.0.0 in /Users/typ/miniconda3/envs/env_mediapipe_tf/lib/python3.9/site-packages (from tensorflow>=2.10->mediapipe-model-maker) (16.0.6)\n",
                                                "Requirement already satisfied: ml-dtypes~=0.2.0 in /Users/typ/miniconda3/envs/env_mediapipe_tf/lib/python3.9/site-packages (from tensorflow>=2.10->mediapipe-model-maker) (0.2.0)\n",
                                                "Requirement already satisfied: opt-einsum>=2.3.2 in /Users/typ/miniconda3/envs/env_mediapipe_tf/lib/python3.9/site-packages (from tensorflow>=2.10->mediapipe-model-maker) (3.3.0)\n",
                                                "Requirement already satisfied: packaging in /Users/typ/miniconda3/envs/env_mediapipe_tf/lib/python3.9/site-packages (from tensorflow>=2.10->mediapipe-model-maker) (23.2)\n",
                                                "Requirement already satisfied: setuptools in /Users/typ/miniconda3/envs/env_mediapipe_tf/lib/python3.9/site-packages (from tensorflow>=2.10->mediapipe-model-maker) (68.2.2)\n",
                                                "Requirement already satisfied: six>=1.12.0 in /Users/typ/miniconda3/envs/env_mediapipe_tf/lib/python3.9/site-packages (from tensorflow>=2.10->mediapipe-model-maker) (1.16.0)\n",
                                                "Requirement already satisfied: termcolor>=1.1.0 in /Users/typ/miniconda3/envs/env_mediapipe_tf/lib/python3.9/site-packages (from tensorflow>=2.10->mediapipe-model-maker) (2.4.0)\n",
                                                "Requirement already satisfied: typing-extensions>=3.6.6 in /Users/typ/miniconda3/envs/env_mediapipe_tf/lib/python3.9/site-packages (from tensorflow>=2.10->mediapipe-model-maker) (4.10.0)\n",
                                                "Requirement already satisfied: wrapt<1.15,>=1.11.0 in /Users/typ/miniconda3/envs/env_mediapipe_tf/lib/python3.9/site-packages (from tensorflow>=2.10->mediapipe-model-maker) (1.14.1)\n",
                                                "Requirement already satisfied: tensorflow-io-gcs-filesystem>=0.23.1 in /Users/typ/miniconda3/envs/env_mediapipe_tf/lib/python3.9/site-packages (from tensorflow>=2.10->mediapipe-model-maker) (0.36.0)\n",
                                                "Requirement already satisfied: grpcio<2.0,>=1.24.3 in /Users/typ/miniconda3/envs/env_mediapipe_tf/lib/python3.9/site-packages (from tensorflow>=2.10->mediapipe-model-maker) (1.62.0)\n",
                                                "Requirement already satisfied: tensorboard<2.16,>=2.15 in /Users/typ/miniconda3/envs/env_mediapipe_tf/lib/python3.9/site-packages (from tensorflow>=2.10->mediapipe-model-maker) (2.15.2)\n",
                                                "Requirement already satisfied: tensorflow-estimator<2.16,>=2.15.0 in /Users/typ/miniconda3/envs/env_mediapipe_tf/lib/python3.9/site-packages (from tensorflow>=2.10->mediapipe-model-maker) (2.15.0)\n",
                                                "Requirement already satisfied: keras<2.16,>=2.15.0 in /Users/typ/miniconda3/envs/env_mediapipe_tf/lib/python3.9/site-packages (from tensorflow>=2.10->mediapipe-model-maker) (2.15.0)\n",
                                                "Requirement already satisfied: Cython in /Users/typ/miniconda3/envs/env_mediapipe_tf/lib/python3.9/site-packages (from tf-models-official>=2.10.1->mediapipe-model-maker) (3.0.8)\n",
                                                "Requirement already satisfied: Pillow in /Users/typ/miniconda3/envs/env_mediapipe_tf/lib/python3.9/site-packages (from tf-models-official>=2.10.1->mediapipe-model-maker) (9.5.0)\n",
                                                "Requirement already satisfied: gin-config in /Users/typ/miniconda3/envs/env_mediapipe_tf/lib/python3.9/site-packages (from tf-models-official>=2.10.1->mediapipe-model-maker) (0.5.0)\n",
                                                "Requirement already satisfied: google-api-python-client>=1.6.7 in /Users/typ/miniconda3/envs/env_mediapipe_tf/lib/python3.9/site-packages (from tf-models-official>=2.10.1->mediapipe-model-maker) (2.120.0)\n",
                                                "Requirement already satisfied: immutabledict in /Users/typ/miniconda3/envs/env_mediapipe_tf/lib/python3.9/site-packages (from tf-models-official>=2.10.1->mediapipe-model-maker) (4.1.0)\n",
                                                "Requirement already satisfied: kaggle>=1.3.9 in /Users/typ/miniconda3/envs/env_mediapipe_tf/lib/python3.9/site-packages (from tf-models-official>=2.10.1->mediapipe-model-maker) (1.6.6)\n",
                                                "Requirement already satisfied: oauth2client in /Users/typ/miniconda3/envs/env_mediapipe_tf/lib/python3.9/site-packages (from tf-models-official>=2.10.1->mediapipe-model-maker) (4.1.3)\n",
                                                "Requirement already satisfied: opencv-python-headless in /Users/typ/miniconda3/envs/env_mediapipe_tf/lib/python3.9/site-packages (from tf-models-official>=2.10.1->mediapipe-model-maker) (4.9.0.80)\n",
                                                "Requirement already satisfied: pandas>=0.22.0 in /Users/typ/miniconda3/envs/env_mediapipe_tf/lib/python3.9/site-packages (from tf-models-official>=2.10.1->mediapipe-model-maker) (2.2.1)\n",
                                                "Requirement already satisfied: psutil>=5.4.3 in /Users/typ/miniconda3/envs/env_mediapipe_tf/lib/python3.9/site-packages (from tf-models-official>=2.10.1->mediapipe-model-maker) (5.9.8)\n",
                                                "Requirement already satisfied: py-cpuinfo>=3.3.0 in /Users/typ/miniconda3/envs/env_mediapipe_tf/lib/python3.9/site-packages (from tf-models-official>=2.10.1->mediapipe-model-maker) (9.0.0)\n",
                                                "Requirement already satisfied: pycocotools in /Users/typ/miniconda3/envs/env_mediapipe_tf/lib/python3.9/site-packages (from tf-models-official>=2.10.1->mediapipe-model-maker) (2.0.7)\n",
                                                "Requirement already satisfied: pyyaml>=6.0.0 in /Users/typ/miniconda3/envs/env_mediapipe_tf/lib/python3.9/site-packages (from tf-models-official>=2.10.1->mediapipe-model-maker) (6.0.1)\n",
                                                "Requirement already satisfied: sacrebleu in /Users/typ/miniconda3/envs/env_mediapipe_tf/lib/python3.9/site-packages (from tf-models-official>=2.10.1->mediapipe-model-maker) (2.4.0)\n",
                                                "Requirement already satisfied: scipy>=0.19.1 in /Users/typ/miniconda3/envs/env_mediapipe_tf/lib/python3.9/site-packages (from tf-models-official>=2.10.1->mediapipe-model-maker) (1.12.0)\n",
                                                "Requirement already satisfied: sentencepiece in /Users/typ/miniconda3/envs/env_mediapipe_tf/lib/python3.9/site-packages (from tf-models-official>=2.10.1->mediapipe-model-maker) (0.2.0)\n",
                                                "Requirement already satisfied: seqeval in /Users/typ/miniconda3/envs/env_mediapipe_tf/lib/python3.9/site-packages (from tf-models-official>=2.10.1->mediapipe-model-maker) (1.2.2)\n",
                                                "Requirement already satisfied: tensorflow-model-optimization>=0.4.1 in /Users/typ/miniconda3/envs/env_mediapipe_tf/lib/python3.9/site-packages (from tf-models-official>=2.10.1->mediapipe-model-maker) (0.8.0)\n",
                                                "Requirement already satisfied: tensorflow-text~=2.15.0 in /Users/typ/miniconda3/envs/env_mediapipe_tf/lib/python3.9/site-packages (from tf-models-official>=2.10.1->mediapipe-model-maker) (2.15.0)\n",
                                                "Requirement already satisfied: tf-slim>=1.1.0 in /Users/typ/miniconda3/envs/env_mediapipe_tf/lib/python3.9/site-packages (from tf-models-official>=2.10.1->mediapipe-model-maker) (1.1.0)\n",
                                                "Requirement already satisfied: tf-keras>=2.14.1 in /Users/typ/miniconda3/envs/env_mediapipe_tf/lib/python3.9/site-packages (from tensorflow-hub->mediapipe-model-maker) (2.15.0)\n",
                                                "Requirement already satisfied: array-record in /Users/typ/miniconda3/envs/env_mediapipe_tf/lib/python3.9/site-packages (from tensorflow-datasets->mediapipe-model-maker) (0.4.1)\n",
                                                "Requirement already satisfied: click in /Users/typ/miniconda3/envs/env_mediapipe_tf/lib/python3.9/site-packages (from tensorflow-datasets->mediapipe-model-maker) (8.1.7)\n",
                                                "Requirement already satisfied: dm-tree in /Users/typ/miniconda3/envs/env_mediapipe_tf/lib/python3.9/site-packages (from tensorflow-datasets->mediapipe-model-maker) (0.1.8)\n",
                                                "Requirement already satisfied: etils>=0.9.0 in /Users/typ/miniconda3/envs/env_mediapipe_tf/lib/python3.9/site-packages (from etils[enp,epath,etree]>=0.9.0->tensorflow-datasets->mediapipe-model-maker) (1.5.2)\n",
                                                "Requirement already satisfied: promise in /Users/typ/miniconda3/envs/env_mediapipe_tf/lib/python3.9/site-packages (from tensorflow-datasets->mediapipe-model-maker) (2.3)\n",
                                                "Requirement already satisfied: requests>=2.19.0 in /Users/typ/miniconda3/envs/env_mediapipe_tf/lib/python3.9/site-packages (from tensorflow-datasets->mediapipe-model-maker) (2.31.0)\n",
                                                "Requirement already satisfied: tensorflow-metadata in /Users/typ/miniconda3/envs/env_mediapipe_tf/lib/python3.9/site-packages (from tensorflow-datasets->mediapipe-model-maker) (1.14.0)\n",
                                                "Requirement already satisfied: toml in /Users/typ/miniconda3/envs/env_mediapipe_tf/lib/python3.9/site-packages (from tensorflow-datasets->mediapipe-model-maker) (0.10.2)\n",
                                                "Requirement already satisfied: tqdm in /Users/typ/miniconda3/envs/env_mediapipe_tf/lib/python3.9/site-packages (from tensorflow-datasets->mediapipe-model-maker) (4.66.2)\n",
                                                "Requirement already satisfied: wheel<1.0,>=0.23.0 in /Users/typ/miniconda3/envs/env_mediapipe_tf/lib/python3.9/site-packages (from astunparse>=1.6.0->tensorflow>=2.10->mediapipe-model-maker) (0.41.2)\n",
                                                "Requirement already satisfied: fsspec in /Users/typ/miniconda3/envs/env_mediapipe_tf/lib/python3.9/site-packages (from etils[enp,epath,etree]>=0.9.0->tensorflow-datasets->mediapipe-model-maker) (2024.2.0)\n",
                                                "Requirement already satisfied: importlib_resources in /Users/typ/miniconda3/envs/env_mediapipe_tf/lib/python3.9/site-packages (from etils[enp,epath,etree]>=0.9.0->tensorflow-datasets->mediapipe-model-maker) (6.1.2)\n",
                                                "Requirement already satisfied: zipp in /Users/typ/miniconda3/envs/env_mediapipe_tf/lib/python3.9/site-packages (from etils[enp,epath,etree]>=0.9.0->tensorflow-datasets->mediapipe-model-maker) (3.17.0)\n",
                                                "Requirement already satisfied: httplib2<1.dev0,>=0.15.0 in /Users/typ/miniconda3/envs/env_mediapipe_tf/lib/python3.9/site-packages (from google-api-python-client>=1.6.7->tf-models-official>=2.10.1->mediapipe-model-maker) (0.22.0)\n",
                                                "Requirement already satisfied: google-auth<3.0.0.dev0,>=1.19.0 in /Users/typ/miniconda3/envs/env_mediapipe_tf/lib/python3.9/site-packages (from google-api-python-client>=1.6.7->tf-models-official>=2.10.1->mediapipe-model-maker) (2.28.1)\n",
                                                "Requirement already satisfied: google-auth-httplib2>=0.1.0 in /Users/typ/miniconda3/envs/env_mediapipe_tf/lib/python3.9/site-packages (from google-api-python-client>=1.6.7->tf-models-official>=2.10.1->mediapipe-model-maker) (0.2.0)\n",
                                                "Requirement already satisfied: google-api-core!=2.0.*,!=2.1.*,!=2.2.*,!=2.3.0,<3.0.0.dev0,>=1.31.5 in /Users/typ/miniconda3/envs/env_mediapipe_tf/lib/python3.9/site-packages (from google-api-python-client>=1.6.7->tf-models-official>=2.10.1->mediapipe-model-maker) (2.17.1)\n",
                                                "Requirement already satisfied: uritemplate<5,>=3.0.1 in /Users/typ/miniconda3/envs/env_mediapipe_tf/lib/python3.9/site-packages (from google-api-python-client>=1.6.7->tf-models-official>=2.10.1->mediapipe-model-maker) (4.1.1)\n",
                                                "Requirement already satisfied: certifi in /Users/typ/miniconda3/envs/env_mediapipe_tf/lib/python3.9/site-packages (from kaggle>=1.3.9->tf-models-official>=2.10.1->mediapipe-model-maker) (2024.2.2)\n",
                                                "Requirement already satisfied: python-dateutil in /Users/typ/miniconda3/envs/env_mediapipe_tf/lib/python3.9/site-packages (from kaggle>=1.3.9->tf-models-official>=2.10.1->mediapipe-model-maker) (2.9.0)\n",
                                                "Requirement already satisfied: python-slugify in /Users/typ/miniconda3/envs/env_mediapipe_tf/lib/python3.9/site-packages (from kaggle>=1.3.9->tf-models-official>=2.10.1->mediapipe-model-maker) (8.0.4)\n",
                                                "Requirement already satisfied: urllib3 in /Users/typ/miniconda3/envs/env_mediapipe_tf/lib/python3.9/site-packages (from kaggle>=1.3.9->tf-models-official>=2.10.1->mediapipe-model-maker) (2.2.1)\n",
                                                "Requirement already satisfied: bleach in /Users/typ/miniconda3/envs/env_mediapipe_tf/lib/python3.9/site-packages (from kaggle>=1.3.9->tf-models-official>=2.10.1->mediapipe-model-maker) (6.1.0)\n",
                                                "Requirement already satisfied: pytz>=2020.1 in /Users/typ/miniconda3/envs/env_mediapipe_tf/lib/python3.9/site-packages (from pandas>=0.22.0->tf-models-official>=2.10.1->mediapipe-model-maker) (2024.1)\n",
                                                "Requirement already satisfied: tzdata>=2022.7 in /Users/typ/miniconda3/envs/env_mediapipe_tf/lib/python3.9/site-packages (from pandas>=0.22.0->tf-models-official>=2.10.1->mediapipe-model-maker) (2024.1)\n",
                                                "Requirement already satisfied: charset-normalizer<4,>=2 in /Users/typ/miniconda3/envs/env_mediapipe_tf/lib/python3.9/site-packages (from requests>=2.19.0->tensorflow-datasets->mediapipe-model-maker) (3.3.2)\n",
                                                "Requirement already satisfied: idna<4,>=2.5 in /Users/typ/miniconda3/envs/env_mediapipe_tf/lib/python3.9/site-packages (from requests>=2.19.0->tensorflow-datasets->mediapipe-model-maker) (3.6)\n",
                                                "Requirement already satisfied: google-auth-oauthlib<2,>=0.5 in /Users/typ/miniconda3/envs/env_mediapipe_tf/lib/python3.9/site-packages (from tensorboard<2.16,>=2.15->tensorflow>=2.10->mediapipe-model-maker) (1.2.0)\n",
                                                "Requirement already satisfied: markdown>=2.6.8 in /Users/typ/miniconda3/envs/env_mediapipe_tf/lib/python3.9/site-packages (from tensorboard<2.16,>=2.15->tensorflow>=2.10->mediapipe-model-maker) (3.5.2)\n",
                                                "Requirement already satisfied: tensorboard-data-server<0.8.0,>=0.7.0 in /Users/typ/miniconda3/envs/env_mediapipe_tf/lib/python3.9/site-packages (from tensorboard<2.16,>=2.15->tensorflow>=2.10->mediapipe-model-maker) (0.7.2)\n",
                                                "Requirement already satisfied: werkzeug>=1.0.1 in /Users/typ/miniconda3/envs/env_mediapipe_tf/lib/python3.9/site-packages (from tensorboard<2.16,>=2.15->tensorflow>=2.10->mediapipe-model-maker) (3.0.1)\n",
                                                "Requirement already satisfied: contourpy>=1.0.1 in /Users/typ/miniconda3/envs/env_mediapipe_tf/lib/python3.9/site-packages (from matplotlib->mediapipe==0.9.0.1->mediapipe-model-maker) (1.2.0)\n",
                                                "Requirement already satisfied: cycler>=0.10 in /Users/typ/miniconda3/envs/env_mediapipe_tf/lib/python3.9/site-packages (from matplotlib->mediapipe==0.9.0.1->mediapipe-model-maker) (0.12.1)\n",
                                                "Requirement already satisfied: fonttools>=4.22.0 in /Users/typ/miniconda3/envs/env_mediapipe_tf/lib/python3.9/site-packages (from matplotlib->mediapipe==0.9.0.1->mediapipe-model-maker) (4.49.0)\n",
                                                "Requirement already satisfied: kiwisolver>=1.3.1 in /Users/typ/miniconda3/envs/env_mediapipe_tf/lib/python3.9/site-packages (from matplotlib->mediapipe==0.9.0.1->mediapipe-model-maker) (1.4.5)\n",
                                                "Requirement already satisfied: pyparsing>=2.3.1 in /Users/typ/miniconda3/envs/env_mediapipe_tf/lib/python3.9/site-packages (from matplotlib->mediapipe==0.9.0.1->mediapipe-model-maker) (3.1.1)\n",
                                                "Requirement already satisfied: pyasn1>=0.1.7 in /Users/typ/miniconda3/envs/env_mediapipe_tf/lib/python3.9/site-packages (from oauth2client->tf-models-official>=2.10.1->mediapipe-model-maker) (0.5.1)\n",
                                                "Requirement already satisfied: pyasn1-modules>=0.0.5 in /Users/typ/miniconda3/envs/env_mediapipe_tf/lib/python3.9/site-packages (from oauth2client->tf-models-official>=2.10.1->mediapipe-model-maker) (0.3.0)\n",
                                                "Requirement already satisfied: rsa>=3.1.4 in /Users/typ/miniconda3/envs/env_mediapipe_tf/lib/python3.9/site-packages (from oauth2client->tf-models-official>=2.10.1->mediapipe-model-maker) (4.9)\n",
                                                "Requirement already satisfied: portalocker in /Users/typ/miniconda3/envs/env_mediapipe_tf/lib/python3.9/site-packages (from sacrebleu->tf-models-official>=2.10.1->mediapipe-model-maker) (2.8.2)\n",
                                                "Requirement already satisfied: regex in /Users/typ/miniconda3/envs/env_mediapipe_tf/lib/python3.9/site-packages (from sacrebleu->tf-models-official>=2.10.1->mediapipe-model-maker) (2023.12.25)\n",
                                                "Requirement already satisfied: tabulate>=0.8.9 in /Users/typ/miniconda3/envs/env_mediapipe_tf/lib/python3.9/site-packages (from sacrebleu->tf-models-official>=2.10.1->mediapipe-model-maker) (0.9.0)\n",
                                                "Requirement already satisfied: colorama in /Users/typ/miniconda3/envs/env_mediapipe_tf/lib/python3.9/site-packages (from sacrebleu->tf-models-official>=2.10.1->mediapipe-model-maker) (0.4.6)\n",
                                                "Requirement already satisfied: lxml in /Users/typ/miniconda3/envs/env_mediapipe_tf/lib/python3.9/site-packages (from sacrebleu->tf-models-official>=2.10.1->mediapipe-model-maker) (5.1.0)\n",
                                                "Requirement already satisfied: scikit-learn>=0.21.3 in /Users/typ/miniconda3/envs/env_mediapipe_tf/lib/python3.9/site-packages (from seqeval->tf-models-official>=2.10.1->mediapipe-model-maker) (1.4.1.post1)\n",
                                                "Requirement already satisfied: googleapis-common-protos<2,>=1.52.0 in /Users/typ/miniconda3/envs/env_mediapipe_tf/lib/python3.9/site-packages (from tensorflow-metadata->tensorflow-datasets->mediapipe-model-maker) (1.62.0)\n",
                                                "Requirement already satisfied: cachetools<6.0,>=2.0.0 in /Users/typ/miniconda3/envs/env_mediapipe_tf/lib/python3.9/site-packages (from google-auth<3.0.0.dev0,>=1.19.0->google-api-python-client>=1.6.7->tf-models-official>=2.10.1->mediapipe-model-maker) (5.3.3)\n",
                                                "Requirement already satisfied: requests-oauthlib>=0.7.0 in /Users/typ/miniconda3/envs/env_mediapipe_tf/lib/python3.9/site-packages (from google-auth-oauthlib<2,>=0.5->tensorboard<2.16,>=2.15->tensorflow>=2.10->mediapipe-model-maker) (1.3.1)\n",
                                                "Requirement already satisfied: importlib-metadata>=4.4 in /Users/typ/miniconda3/envs/env_mediapipe_tf/lib/python3.9/site-packages (from markdown>=2.6.8->tensorboard<2.16,>=2.15->tensorflow>=2.10->mediapipe-model-maker) (7.0.1)\n",
                                                "Requirement already satisfied: joblib>=1.2.0 in /Users/typ/miniconda3/envs/env_mediapipe_tf/lib/python3.9/site-packages (from scikit-learn>=0.21.3->seqeval->tf-models-official>=2.10.1->mediapipe-model-maker) (1.3.2)\n",
                                                "Requirement already satisfied: threadpoolctl>=2.0.0 in /Users/typ/miniconda3/envs/env_mediapipe_tf/lib/python3.9/site-packages (from scikit-learn>=0.21.3->seqeval->tf-models-official>=2.10.1->mediapipe-model-maker) (3.3.0)\n",
                                                "Requirement already satisfied: MarkupSafe>=2.1.1 in /Users/typ/miniconda3/envs/env_mediapipe_tf/lib/python3.9/site-packages (from werkzeug>=1.0.1->tensorboard<2.16,>=2.15->tensorflow>=2.10->mediapipe-model-maker) (2.1.5)\n",
                                                "Requirement already satisfied: webencodings in /Users/typ/miniconda3/envs/env_mediapipe_tf/lib/python3.9/site-packages (from bleach->kaggle>=1.3.9->tf-models-official>=2.10.1->mediapipe-model-maker) (0.5.1)\n",
                                                "Requirement already satisfied: text-unidecode>=1.3 in /Users/typ/miniconda3/envs/env_mediapipe_tf/lib/python3.9/site-packages (from python-slugify->kaggle>=1.3.9->tf-models-official>=2.10.1->mediapipe-model-maker) (1.3)\n",
                                                "Requirement already satisfied: oauthlib>=3.0.0 in /Users/typ/miniconda3/envs/env_mediapipe_tf/lib/python3.9/site-packages (from requests-oauthlib>=0.7.0->google-auth-oauthlib<2,>=0.5->tensorboard<2.16,>=2.15->tensorflow>=2.10->mediapipe-model-maker) (3.2.2)\n",
                                                "Note: you may need to restart the kernel to use updated packages.\n"
                                        ]
                                }
                        ],
                        "source": [
                                "%pip install --upgrade pip\n",
                                "%pip install mediapipe-model-maker"
                        ]
                },
                {
                        "cell_type": "markdown",
                        "metadata": {
                                "id": "v3CvTNmB1WiY"
                        },
                        "source": [
                                "Import the required libraries."
                        ]
                },
                {
                        "cell_type": "code",
                        "execution_count": null,
                        "metadata": {
                                "id": "c74UL9oI0VKU"
                        },
                        "outputs": [],
                        "source": [
                                "import os\n",
                                "import tensorflow as tf\n",
                                "assert tf.__version__.startswith('2')\n",
                                "\n",
                                "from mediapipe_model_maker import gesture_recognizer\n",
                                "\n",
                                "import matplotlib.pyplot as plt"
                        ]
                },
                {
                        "cell_type": "markdown",
                        "metadata": {
                                "id": "IppoENBmAuFn"
                        },
                        "source": [
                                "## Simple End-to-End Example\n",
                                "\n",
                                "This end-to-end example uses Model Maker to customize a model for on-device gesture recognition."
                        ]
                },
                {
                        "cell_type": "markdown",
                        "metadata": {
                                "id": "i8fMLXTdD6tW"
                        },
                        "source": [
                                "### Get the dataset"
                        ]
                },
                {
                        "cell_type": "markdown",
                        "metadata": {
                                "id": "7TwDFilngzjs"
                        },
                        "source": [
                                "The dataset for gesture recognition in model maker requires the following format: `<dataset_path>/<label_name>/<img_name>.*`. In addition, one of the label names (`label_names`) must be `none`. The `none` label represents any gesture that isn't classified as one of the other gestures.\n",
                                "\n",
                                "This example uses a rock paper scissors dataset sample which is downloaded from GCS."
                        ]
                },
                {
                        "cell_type": "code",
                        "execution_count": null,
                        "metadata": {
                                "id": "6dwmyg5MnR_y"
                        },
                        "outputs": [],
                        "source": [
                                "dataset_path = \"rps_data\""
                        ]
                },
                {
                        "cell_type": "markdown",
                        "metadata": {
                                "id": "iiWb9Tu3lBBI"
                        },
                        "source": [
                                "Verify the rock paper scissors dataset by printing the labels. There should be 4 gesture labels, with one of them being the `none` gesture."
                        ]
                },
                {
                        "cell_type": "code",
                        "execution_count": null,
                        "metadata": {
                                "id": "QgadM4VDj3Y2"
                        },
                        "outputs": [],
                        "source": [
                                "print(dataset_path)\n",
                                "labels = []\n",
                                "for i in os.listdir(dataset_path):\n",
                                "  if os.path.isdir(os.path.join(dataset_path, i)):\n",
                                "    labels.append(i)\n",
                                "print(labels)"
                        ]
                },
                {
                        "cell_type": "markdown",
                        "metadata": {
                                "id": "CA0o59OMjqmV"
                        },
                        "source": [
                                "To better understand the dataset, plot a couple of example images for each gesture."
                        ]
                },
                {
                        "cell_type": "code",
                        "execution_count": null,
                        "metadata": {
                                "id": "sx8PsrwYjvgO"
                        },
                        "outputs": [],
                        "source": [
                                "NUM_EXAMPLES = 5\n",
                                "\n",
                                "for label in labels:\n",
                                "  label_dir = os.path.join(dataset_path, label)\n",
                                "  example_filenames = os.listdir(label_dir)[:NUM_EXAMPLES]\n",
                                "  fig, axs = plt.subplots(1, NUM_EXAMPLES, figsize=(10,2))\n",
                                "  for i in range(NUM_EXAMPLES):\n",
                                "    axs[i].imshow(plt.imread(os.path.join(label_dir, example_filenames[i])))\n",
                                "    axs[i].get_xaxis().set_visible(False)\n",
                                "    axs[i].get_yaxis().set_visible(False)\n",
                                "  fig.suptitle(f'Showing {NUM_EXAMPLES} examples for {label}')\n",
                                "\n",
                                "plt.show()"
                        ]
                },
                {
                        "cell_type": "markdown",
                        "metadata": {
                                "id": "sWXwEXSXlg7d"
                        },
                        "source": [
                                "### Run the example\n",
                                "The workflow consists of 4 steps which have been separated into their own code blocks."
                        ]
                },
                {
                        "cell_type": "markdown",
                        "metadata": {
                                "id": "OF9ArLQXIu25"
                        },
                        "source": [
                                "**Load the dataset**\n",
                                "\n",
                                "Load the dataset located at `dataset_path` by using the `Dataset.from_folder` method. When loading the dataset, run the pre-packaged hand detection model from MediaPipe Hands to detect the hand landmarks from the images. Any images without detected hands are ommitted from the dataset. The resulting dataset will contain the extracted hand landmark positions from each image, rather than images themselves.\n",
                                "\n",
                                "The `HandDataPreprocessingParams` class contains two configurable options for the data loading process:\n",
                                "* `shuffle`: A boolean controlling whether to shuffle the dataset. Defaults to true.\n",
                                "* `min_detection_confidence`: A float between 0 and 1 controlling the confidence threshold for hand detection.\n",
                                "\n",
                                "Split the dataset: 80% for training, 10% for validation, and 10% for testing."
                        ]
                },
                {
                        "cell_type": "code",
                        "execution_count": null,
                        "metadata": {
                                "id": "aTTNZsolKXiT"
                        },
                        "outputs": [],
                        "source": [
                                "data = gesture_recognizer.Dataset.from_folder(\n",
                                "    dirname=dataset_path,\n",
                                "    hparams=gesture_recognizer.HandDataPreprocessingParams()\n",
                                ")\n",
                                "train_data, rest_data = data.split(0.8)\n",
                                "validation_data, test_data = rest_data.split(0.5)"
                        ]
                },
                {
                        "cell_type": "markdown",
                        "metadata": {
                                "id": "ndTh_ZyEIeKV"
                        },
                        "source": [
                                "**Train the model**"
                        ]
                },
                {
                        "cell_type": "markdown",
                        "metadata": {
                                "id": "yAXWc3bv8hpe"
                        },
                        "source": [
                                "Train the custom gesture recognizer by using the create method and passing in the training data, validation data, model options, and hyperparameters. For more information on model options and hyperparameters, see the [Hyperparameters](#hyperparameters) section below."
                        ]
                },
                {
                        "cell_type": "code",
                        "execution_count": null,
                        "metadata": {
                                "id": "yk0UiRB6NZrb"
                        },
                        "outputs": [],
                        "source": [
                                "hparams = gesture_recognizer.HParams(export_dir=\"exported_model\")\n",
                                "options = gesture_recognizer.GestureRecognizerOptions(hparams=hparams)\n",
                                "model = gesture_recognizer.GestureRecognizer.create(\n",
                                "    train_data=train_data,\n",
                                "    validation_data=validation_data,\n",
                                "    options=options\n",
                                ")"
                        ]
                },
                {
                        "cell_type": "markdown",
                        "metadata": {
                                "id": "nED7mdIO9YS6"
                        },
                        "source": [
                                "**Evaluate the model performance**\n",
                                "\n",
                                "After training the model, evaluate it on a test dataset and print the loss and accuracy metrics."
                        ]
                },
                {
                        "cell_type": "code",
                        "execution_count": null,
                        "metadata": {
                                "id": "OdOqllqx9YKy"
                        },
                        "outputs": [],
                        "source": [
                                "loss, acc = model.evaluate(test_data, batch_size=1)\n",
                                "print(f\"Test loss:{loss}, Test accuracy:{acc}\")"
                        ]
                },
                {
                        "cell_type": "markdown",
                        "metadata": {
                                "id": "vJLramjy9gvy"
                        },
                        "source": [
                                "**Export to Tensorflow Lite Model**\n",
                                "\n",
                                "After creating the model, convert and export it to a Tensorflow Lite model format for later use on an on-device application. The export also includes model metadata, which includes the label file."
                        ]
                },
                {
                        "cell_type": "code",
                        "execution_count": null,
                        "metadata": {
                                "id": "fmNaFXytijVg"
                        },
                        "outputs": [],
                        "source": [
                                "model.export_model()\n",
                                "!ls exported_model"
                        ]
                },
                {
                        "cell_type": "code",
                        "execution_count": null,
                        "metadata": {
                                "id": "7yfN_47qjjOC"
                        },
                        "outputs": [],
                        "source": [
                                "files.download('exported_model/gesture_recognizer.task')"
                        ]
                },
                {
                        "cell_type": "markdown",
                        "metadata": {
                                "id": "ulqyNGmTCKeU"
                        },
                        "source": [
                                "## Run the model on-device\n",
                                "\n",
                                "To use the TFLite model for on-device usage through MediaPipe Tasks, refer to the Gesture Recognizer [overview page](https://developers.google.com/mediapipe/solutions/vision/gesture_recognizer)."
                        ]
                },
                {
                        "cell_type": "markdown",
                        "metadata": {
                                "id": "F1tiLGGRcvhy"
                        },
                        "source": [
                                "## Hyperparameters {:#hyperparameters}\n"
                        ]
                },
                {
                        "cell_type": "markdown",
                        "metadata": {
                                "id": "f1UMEG85hQL_"
                        },
                        "source": [
                                "You can further customize the model using the `GestureRecognizerOptions` class, which has two optional parameters for `ModelOptions` and `HParams`. Use the `ModelOptions` class to customize parameters related to the model itself, and the `HParams` class to customize other parameters related to training and saving the model.\n",
                                "\n",
                                "`ModelOptions` has one customizable parameter that affects accuracy:\n",
                                "* `dropout_rate`: The fraction of the input units to drop. Used in dropout layer. Defaults to 0.05.\n",
                                "* `layer_widths`: A list of hidden layer widths for the gesture model. Each element in the list will create a new hidden layer with the specified width. The hidden layers are separated with BatchNorm, Dropout, and ReLU. Defaults to an empty list(no hidden layers).\n",
                                "\n",
                                "`HParams` has the following list of customizable parameters which affect model accuracy:\n",
                                "* `learning_rate`: The learning rate to use for gradient descent training. Defaults to 0.001.\n",
                                "* `batch_size`: Batch size for training. Defaults to 2.\n",
                                "* `epochs`: Number of training iterations over the dataset. Defaults to 10.\n",
                                "* `steps_per_epoch`: An optional integer that indicates the number of training steps per epoch. If not set, the training pipeline calculates the default steps per epoch as the training dataset size divided by batch size.\n",
                                "* `shuffle`: True if the dataset is shuffled before training. Defaults to False.\n",
                                "* `lr_decay`: Learning rate decay to use for gradient descent training. Defaults to 0.99.\n",
                                "* `gamma`: Gamma parameter for focal loss. Defaults to 2\n",
                                "\n",
                                "Additional `HParams` parameter that does not affect model accuracy:\n",
                                "* `export_dir`: The location of the model checkpoint files and exported model files."
                        ]
                },
                {
                        "cell_type": "markdown",
                        "metadata": {
                                "id": "psvVZeSYBLfV"
                        },
                        "source": [
                                "For example, the following trains a new model with the dropout_rate of 0.2 and learning rate of 0.003."
                        ]
                },
                {
                        "cell_type": "code",
                        "execution_count": null,
                        "metadata": {
                                "id": "CxMOI8o6iNLu"
                        },
                        "outputs": [],
                        "source": [
                                "hparams = gesture_recognizer.HParams(learning_rate=0.003, export_dir=\"exported_model_2\")\n",
                                "model_options = gesture_recognizer.ModelOptions(dropout_rate=0.2)\n",
                                "options = gesture_recognizer.GestureRecognizerOptions(model_options=model_options, hparams=hparams)\n",
                                "model_2 = gesture_recognizer.GestureRecognizer.create(\n",
                                "    train_data=train_data,\n",
                                "    validation_data=validation_data,\n",
                                "    options=options\n",
                                ")"
                        ]
                },
                {
                        "cell_type": "markdown",
                        "metadata": {
                                "id": "3cekuTJiBbv9"
                        },
                        "source": [
                                "Evaluate the newly trained model."
                        ]
                },
                {
                        "cell_type": "code",
                        "execution_count": null,
                        "metadata": {
                                "id": "RRH96bm-BbAo"
                        },
                        "outputs": [],
                        "source": [
                                "loss, accuracy = model_2.evaluate(test_data)\n",
                                "print(f\"Test loss:{loss}, Test accuracy:{accuracy}\")"
                        ]
                }
        ],
        "metadata": {
                "colab": {
                        "last_runtime": {
                                "build_target": "",
                                "kind": "local"
                        },
                        "private_outputs": true,
                        "provenance": []
                },
                "kernelspec": {
                        "display_name": "Python 3",
                        "name": "python3"
                },
                "language_info": {
                        "codemirror_mode": {
                                "name": "ipython",
                                "version": 3
                        },
                        "file_extension": ".py",
                        "mimetype": "text/x-python",
                        "name": "python",
                        "nbconvert_exporter": "python",
                        "pygments_lexer": "ipython3",
                        "version": "3.9.18"
                }
        },
        "nbformat": 4,
        "nbformat_minor": 0
}
